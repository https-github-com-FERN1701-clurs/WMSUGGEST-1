{
 "cells": [
  {
   "cell_type": "code",
   "execution_count": 34,
   "id": "86f72387",
   "metadata": {},
   "outputs": [],
   "source": [
    "# data processing\n",
    "import pandas as pd \n",
    "import numpy as np \n",
    "from sklearn.preprocessing import StandardScaler, LabelEncoder, OneHotEncoder, Normalizer\n",
    "from sklearn.model_selection import train_test_split, cross_val_score, GridSearchCV, KFold\n",
    "import matplotlib.pyplot as plt\n",
    "%matplotlib inline\n",
    "plt.style.use(\"fivethirtyeight\")"
   ]
  },
  {
   "cell_type": "code",
   "execution_count": 2,
   "id": "230909b1",
   "metadata": {},
   "outputs": [
    {
     "data": {
      "text/html": [
       "<div>\n",
       "<style scoped>\n",
       "    .dataframe tbody tr th:only-of-type {\n",
       "        vertical-align: middle;\n",
       "    }\n",
       "\n",
       "    .dataframe tbody tr th {\n",
       "        vertical-align: top;\n",
       "    }\n",
       "\n",
       "    .dataframe thead th {\n",
       "        text-align: right;\n",
       "    }\n",
       "</style>\n",
       "<table border=\"1\" class=\"dataframe\">\n",
       "  <thead>\n",
       "    <tr style=\"text-align: right;\">\n",
       "      <th></th>\n",
       "      <th>Unnamed: 0</th>\n",
       "      <th>Course</th>\n",
       "      <th>Pr1</th>\n",
       "      <th>Pr2</th>\n",
       "      <th>Pr3</th>\n",
       "      <th>Pr4</th>\n",
       "      <th>Pr5</th>\n",
       "      <th>Oapr</th>\n",
       "      <th>Course_Label</th>\n",
       "    </tr>\n",
       "  </thead>\n",
       "  <tbody>\n",
       "    <tr>\n",
       "      <th>0</th>\n",
       "      <td>5</td>\n",
       "      <td>BS AGRI</td>\n",
       "      <td>52.90</td>\n",
       "      <td>77.12</td>\n",
       "      <td>29.96</td>\n",
       "      <td>75.28</td>\n",
       "      <td>53.29</td>\n",
       "      <td>61.37</td>\n",
       "      <td>12</td>\n",
       "    </tr>\n",
       "    <tr>\n",
       "      <th>1</th>\n",
       "      <td>6</td>\n",
       "      <td>BS AGRI</td>\n",
       "      <td>68.50</td>\n",
       "      <td>54.75</td>\n",
       "      <td>36.55</td>\n",
       "      <td>70.61</td>\n",
       "      <td>43.49</td>\n",
       "      <td>62.48</td>\n",
       "      <td>12</td>\n",
       "    </tr>\n",
       "    <tr>\n",
       "      <th>2</th>\n",
       "      <td>7</td>\n",
       "      <td>BS AGRI</td>\n",
       "      <td>74.80</td>\n",
       "      <td>66.85</td>\n",
       "      <td>89.19</td>\n",
       "      <td>93.38</td>\n",
       "      <td>72.90</td>\n",
       "      <td>84.19</td>\n",
       "      <td>12</td>\n",
       "    </tr>\n",
       "    <tr>\n",
       "      <th>3</th>\n",
       "      <td>8</td>\n",
       "      <td>BS AGRI</td>\n",
       "      <td>58.56</td>\n",
       "      <td>66.85</td>\n",
       "      <td>72.66</td>\n",
       "      <td>79.96</td>\n",
       "      <td>33.69</td>\n",
       "      <td>66.95</td>\n",
       "      <td>12</td>\n",
       "    </tr>\n",
       "    <tr>\n",
       "      <th>4</th>\n",
       "      <td>9</td>\n",
       "      <td>BS AGRI</td>\n",
       "      <td>58.56</td>\n",
       "      <td>87.40</td>\n",
       "      <td>80.93</td>\n",
       "      <td>34.54</td>\n",
       "      <td>9.69</td>\n",
       "      <td>62.48</td>\n",
       "      <td>12</td>\n",
       "    </tr>\n",
       "    <tr>\n",
       "      <th>...</th>\n",
       "      <td>...</td>\n",
       "      <td>...</td>\n",
       "      <td>...</td>\n",
       "      <td>...</td>\n",
       "      <td>...</td>\n",
       "      <td>...</td>\n",
       "      <td>...</td>\n",
       "      <td>...</td>\n",
       "      <td>...</td>\n",
       "    </tr>\n",
       "    <tr>\n",
       "      <th>1865</th>\n",
       "      <td>2400</td>\n",
       "      <td>BSNE</td>\n",
       "      <td>76.83</td>\n",
       "      <td>35.70</td>\n",
       "      <td>93.41</td>\n",
       "      <td>79.96</td>\n",
       "      <td>79.78</td>\n",
       "      <td>80.63</td>\n",
       "      <td>38</td>\n",
       "    </tr>\n",
       "    <tr>\n",
       "      <th>1866</th>\n",
       "      <td>2402</td>\n",
       "      <td>BSNE</td>\n",
       "      <td>84.91</td>\n",
       "      <td>71.99</td>\n",
       "      <td>72.66</td>\n",
       "      <td>24.91</td>\n",
       "      <td>63.10</td>\n",
       "      <td>76.98</td>\n",
       "      <td>38</td>\n",
       "    </tr>\n",
       "    <tr>\n",
       "      <th>1867</th>\n",
       "      <td>2403</td>\n",
       "      <td>BSNE</td>\n",
       "      <td>83.47</td>\n",
       "      <td>66.85</td>\n",
       "      <td>85.06</td>\n",
       "      <td>70.61</td>\n",
       "      <td>83.75</td>\n",
       "      <td>84.19</td>\n",
       "      <td>38</td>\n",
       "    </tr>\n",
       "    <tr>\n",
       "      <th>1868</th>\n",
       "      <td>2404</td>\n",
       "      <td>BSNE</td>\n",
       "      <td>52.90</td>\n",
       "      <td>54.75</td>\n",
       "      <td>89.19</td>\n",
       "      <td>75.28</td>\n",
       "      <td>87.72</td>\n",
       "      <td>73.34</td>\n",
       "      <td>38</td>\n",
       "    </tr>\n",
       "    <tr>\n",
       "      <th>1869</th>\n",
       "      <td>2405</td>\n",
       "      <td>BSNE</td>\n",
       "      <td>92.71</td>\n",
       "      <td>82.26</td>\n",
       "      <td>66.81</td>\n",
       "      <td>75.28</td>\n",
       "      <td>26.06</td>\n",
       "      <td>84.88</td>\n",
       "      <td>38</td>\n",
       "    </tr>\n",
       "  </tbody>\n",
       "</table>\n",
       "<p>1870 rows × 9 columns</p>\n",
       "</div>"
      ],
      "text/plain": [
       "      Unnamed: 0   Course    Pr1    Pr2    Pr3    Pr4    Pr5   Oapr  \\\n",
       "0              5  BS AGRI  52.90  77.12  29.96  75.28  53.29  61.37   \n",
       "1              6  BS AGRI  68.50  54.75  36.55  70.61  43.49  62.48   \n",
       "2              7  BS AGRI  74.80  66.85  89.19  93.38  72.90  84.19   \n",
       "3              8  BS AGRI  58.56  66.85  72.66  79.96  33.69  66.95   \n",
       "4              9  BS AGRI  58.56  87.40  80.93  34.54   9.69  62.48   \n",
       "...          ...      ...    ...    ...    ...    ...    ...    ...   \n",
       "1865        2400     BSNE  76.83  35.70  93.41  79.96  79.78  80.63   \n",
       "1866        2402     BSNE  84.91  71.99  72.66  24.91  63.10  76.98   \n",
       "1867        2403     BSNE  83.47  66.85  85.06  70.61  83.75  84.19   \n",
       "1868        2404     BSNE  52.90  54.75  89.19  75.28  87.72  73.34   \n",
       "1869        2405     BSNE  92.71  82.26  66.81  75.28  26.06  84.88   \n",
       "\n",
       "      Course_Label  \n",
       "0               12  \n",
       "1               12  \n",
       "2               12  \n",
       "3               12  \n",
       "4               12  \n",
       "...            ...  \n",
       "1865            38  \n",
       "1866            38  \n",
       "1867            38  \n",
       "1868            38  \n",
       "1869            38  \n",
       "\n",
       "[1870 rows x 9 columns]"
      ]
     },
     "execution_count": 2,
     "metadata": {},
     "output_type": "execute_result"
    }
   ],
   "source": [
    "data = pd.read_csv('remove_outliers.csv')\n",
    "data"
   ]
  },
  {
   "cell_type": "code",
   "execution_count": 3,
   "id": "23bcfbd9",
   "metadata": {},
   "outputs": [],
   "source": [
    "data.drop(['Unnamed: 0'],axis=1,inplace=True)"
   ]
  },
  {
   "cell_type": "code",
   "execution_count": 4,
   "id": "228cccd7",
   "metadata": {},
   "outputs": [
    {
     "data": {
      "text/plain": [
       "Course           object\n",
       "Pr1             float64\n",
       "Pr2             float64\n",
       "Pr3             float64\n",
       "Pr4             float64\n",
       "Pr5             float64\n",
       "Oapr            float64\n",
       "Course_Label      int64\n",
       "dtype: object"
      ]
     },
     "execution_count": 4,
     "metadata": {},
     "output_type": "execute_result"
    }
   ],
   "source": [
    "data.dtypes"
   ]
  },
  {
   "cell_type": "code",
   "execution_count": 5,
   "id": "49f0e987",
   "metadata": {},
   "outputs": [
    {
     "data": {
      "text/html": [
       "<div>\n",
       "<style scoped>\n",
       "    .dataframe tbody tr th:only-of-type {\n",
       "        vertical-align: middle;\n",
       "    }\n",
       "\n",
       "    .dataframe tbody tr th {\n",
       "        vertical-align: top;\n",
       "    }\n",
       "\n",
       "    .dataframe thead th {\n",
       "        text-align: right;\n",
       "    }\n",
       "</style>\n",
       "<table border=\"1\" class=\"dataframe\">\n",
       "  <thead>\n",
       "    <tr style=\"text-align: right;\">\n",
       "      <th></th>\n",
       "      <th>Course</th>\n",
       "      <th>Pr1</th>\n",
       "      <th>Pr2</th>\n",
       "      <th>Pr3</th>\n",
       "      <th>Pr4</th>\n",
       "      <th>Pr5</th>\n",
       "      <th>Oapr</th>\n",
       "      <th>Course_Label</th>\n",
       "    </tr>\n",
       "  </thead>\n",
       "  <tbody>\n",
       "    <tr>\n",
       "      <th>0</th>\n",
       "      <td>BS AGRI</td>\n",
       "      <td>52.90</td>\n",
       "      <td>77.12</td>\n",
       "      <td>29.96</td>\n",
       "      <td>75.28</td>\n",
       "      <td>53.29</td>\n",
       "      <td>61.37</td>\n",
       "      <td>12</td>\n",
       "    </tr>\n",
       "    <tr>\n",
       "      <th>1</th>\n",
       "      <td>BS AGRI</td>\n",
       "      <td>68.50</td>\n",
       "      <td>54.75</td>\n",
       "      <td>36.55</td>\n",
       "      <td>70.61</td>\n",
       "      <td>43.49</td>\n",
       "      <td>62.48</td>\n",
       "      <td>12</td>\n",
       "    </tr>\n",
       "    <tr>\n",
       "      <th>2</th>\n",
       "      <td>BS AGRI</td>\n",
       "      <td>74.80</td>\n",
       "      <td>66.85</td>\n",
       "      <td>89.19</td>\n",
       "      <td>93.38</td>\n",
       "      <td>72.90</td>\n",
       "      <td>84.19</td>\n",
       "      <td>12</td>\n",
       "    </tr>\n",
       "    <tr>\n",
       "      <th>3</th>\n",
       "      <td>BS AGRI</td>\n",
       "      <td>58.56</td>\n",
       "      <td>66.85</td>\n",
       "      <td>72.66</td>\n",
       "      <td>79.96</td>\n",
       "      <td>33.69</td>\n",
       "      <td>66.95</td>\n",
       "      <td>12</td>\n",
       "    </tr>\n",
       "    <tr>\n",
       "      <th>4</th>\n",
       "      <td>BS AGRI</td>\n",
       "      <td>58.56</td>\n",
       "      <td>87.40</td>\n",
       "      <td>80.93</td>\n",
       "      <td>34.54</td>\n",
       "      <td>9.69</td>\n",
       "      <td>62.48</td>\n",
       "      <td>12</td>\n",
       "    </tr>\n",
       "  </tbody>\n",
       "</table>\n",
       "</div>"
      ],
      "text/plain": [
       "    Course    Pr1    Pr2    Pr3    Pr4    Pr5   Oapr  Course_Label\n",
       "0  BS AGRI  52.90  77.12  29.96  75.28  53.29  61.37            12\n",
       "1  BS AGRI  68.50  54.75  36.55  70.61  43.49  62.48            12\n",
       "2  BS AGRI  74.80  66.85  89.19  93.38  72.90  84.19            12\n",
       "3  BS AGRI  58.56  66.85  72.66  79.96  33.69  66.95            12\n",
       "4  BS AGRI  58.56  87.40  80.93  34.54   9.69  62.48            12"
      ]
     },
     "execution_count": 5,
     "metadata": {},
     "output_type": "execute_result"
    }
   ],
   "source": [
    "data.head()"
   ]
  },
  {
   "cell_type": "markdown",
   "id": "eb18cdff",
   "metadata": {},
   "source": [
    "# Exploratory Data Analysis"
   ]
  },
  {
   "cell_type": "markdown",
   "id": "7cdf431c",
   "metadata": {},
   "source": [
    "### FEATURE SELECTION"
   ]
  },
  {
   "cell_type": "code",
   "execution_count": 6,
   "id": "94e19152",
   "metadata": {},
   "outputs": [],
   "source": [
    "# X TARGET\n",
    "FEATURES = [\n",
    "     'Pr1',\n",
    "     'Pr2',\n",
    "     'Pr3',\n",
    "     'Pr4',\n",
    "     'Pr5',\n",
    "     'Oapr'\n",
    "]"
   ]
  },
  {
   "cell_type": "code",
   "execution_count": 7,
   "id": "4fd66926",
   "metadata": {},
   "outputs": [],
   "source": [
    "# Y TARGET\n",
    "TARGET = 'Course'"
   ]
  },
  {
   "cell_type": "code",
   "execution_count": 8,
   "id": "49e52b9c",
   "metadata": {},
   "outputs": [],
   "source": [
    "X = data[FEATURES]\n",
    "Y = data[TARGET]"
   ]
  },
  {
   "cell_type": "code",
   "execution_count": 9,
   "id": "6e81d78e",
   "metadata": {},
   "outputs": [
    {
     "data": {
      "text/plain": [
       "BSN           271\n",
       "BS BIO        121\n",
       "BEED          112\n",
       "AB POLSCI      94\n",
       "BS CE          91\n",
       "BSIT           77\n",
       "BSCS           72\n",
       "BS ME          70\n",
       "BPE            64\n",
       "BSED           62\n",
       "AB ENG         62\n",
       "BSSW           60\n",
       "BAHISTORY      54\n",
       "BS EE          43\n",
       "AB FIL         39\n",
       "BS CD          38\n",
       "BSNE           35\n",
       "BS ACCTNG      35\n",
       "BS ND          33\n",
       "BSHM           33\n",
       "ABMC-BROAD     32\n",
       "BS HE          30\n",
       "BS COE         29\n",
       "BS CHEM        29\n",
       "BS SE          28\n",
       "BSIE           28\n",
       "BS MATH        27\n",
       "AB JOURN       25\n",
       "BS ECE         23\n",
       "BS ENE         23\n",
       "BS GE          22\n",
       "BS STAT        18\n",
       "BS AGRI        18\n",
       "ABMC-JOURN     13\n",
       "BSED SS        13\n",
       "BSED VEDUC     12\n",
       "BS ABE         12\n",
       "BS PHYSICS     11\n",
       "BS F            7\n",
       "BPED            4\n",
       "Name: Course, dtype: int64"
      ]
     },
     "execution_count": 9,
     "metadata": {},
     "output_type": "execute_result"
    }
   ],
   "source": [
    "Y.value_counts()"
   ]
  },
  {
   "cell_type": "code",
   "execution_count": 10,
   "id": "dbd980b7",
   "metadata": {},
   "outputs": [],
   "source": [
    "Y=Y.astype(\"string\")"
   ]
  },
  {
   "cell_type": "code",
   "execution_count": 11,
   "id": "2045377f",
   "metadata": {},
   "outputs": [
    {
     "name": "stdout",
     "output_type": "stream",
     "text": [
      "(1870, 6)\n"
     ]
    }
   ],
   "source": [
    "normalized_X = Normalizer().fit_transform(X)\n",
    "print(normalized_X.shape)"
   ]
  },
  {
   "cell_type": "code",
   "execution_count": 12,
   "id": "9b9048f0",
   "metadata": {},
   "outputs": [
    {
     "data": {
      "text/plain": [
       "array([[0.35732898, 0.52093026, 0.20237384, 0.50850142, 0.35996335,\n",
       "        0.41454214],\n",
       "       [0.48672697, 0.3890263 , 0.25970614, 0.50171958, 0.30901834,\n",
       "        0.44395184],\n",
       "       [0.37808164, 0.33789783, 0.45081687, 0.4719955 , 0.36847796,\n",
       "        0.42554403],\n",
       "       ...,\n",
       "       [0.42955548, 0.34402521, 0.43773798, 0.36337501, 0.43099642,\n",
       "        0.43326076],\n",
       "       [0.29347496, 0.30373826, 0.49480211, 0.41763318, 0.48664695,\n",
       "        0.40687058],\n",
       "       [0.50746705, 0.45026685, 0.36569813, 0.4120604 , 0.14264471,\n",
       "        0.46460795]])"
      ]
     },
     "execution_count": 12,
     "metadata": {},
     "output_type": "execute_result"
    }
   ],
   "source": [
    "normalized_X"
   ]
  },
  {
   "cell_type": "code",
   "execution_count": 13,
   "id": "ca6a3ccb",
   "metadata": {},
   "outputs": [
    {
     "name": "stdout",
     "output_type": "stream",
     "text": [
      "(1496, 6) (374, 6) (1496,) (374,)\n"
     ]
    }
   ],
   "source": [
    "X_train, X_test, Y_train, Y_test = train_test_split(X, Y, test_size=0.2, random_state=0)\n",
    "print(X_train.shape, X_test.shape, Y_train.shape, Y_test.shape)"
   ]
  },
  {
   "cell_type": "markdown",
   "id": "fd7628c1",
   "metadata": {},
   "source": [
    "# CLASSIFIER ALGORITHM"
   ]
  },
  {
   "cell_type": "markdown",
   "id": "cda2aa3a",
   "metadata": {},
   "source": [
    "### RANDOM FOREST"
   ]
  },
  {
   "cell_type": "code",
   "execution_count": 14,
   "id": "7345e5bc",
   "metadata": {},
   "outputs": [],
   "source": [
    "from sklearn.ensemble import RandomForestClassifier"
   ]
  },
  {
   "cell_type": "code",
   "execution_count": 15,
   "id": "e1f73768",
   "metadata": {},
   "outputs": [
    {
     "data": {
      "text/html": [
       "<style>#sk-container-id-1 {color: black;background-color: white;}#sk-container-id-1 pre{padding: 0;}#sk-container-id-1 div.sk-toggleable {background-color: white;}#sk-container-id-1 label.sk-toggleable__label {cursor: pointer;display: block;width: 100%;margin-bottom: 0;padding: 0.3em;box-sizing: border-box;text-align: center;}#sk-container-id-1 label.sk-toggleable__label-arrow:before {content: \"▸\";float: left;margin-right: 0.25em;color: #696969;}#sk-container-id-1 label.sk-toggleable__label-arrow:hover:before {color: black;}#sk-container-id-1 div.sk-estimator:hover label.sk-toggleable__label-arrow:before {color: black;}#sk-container-id-1 div.sk-toggleable__content {max-height: 0;max-width: 0;overflow: hidden;text-align: left;background-color: #f0f8ff;}#sk-container-id-1 div.sk-toggleable__content pre {margin: 0.2em;color: black;border-radius: 0.25em;background-color: #f0f8ff;}#sk-container-id-1 input.sk-toggleable__control:checked~div.sk-toggleable__content {max-height: 200px;max-width: 100%;overflow: auto;}#sk-container-id-1 input.sk-toggleable__control:checked~label.sk-toggleable__label-arrow:before {content: \"▾\";}#sk-container-id-1 div.sk-estimator input.sk-toggleable__control:checked~label.sk-toggleable__label {background-color: #d4ebff;}#sk-container-id-1 div.sk-label input.sk-toggleable__control:checked~label.sk-toggleable__label {background-color: #d4ebff;}#sk-container-id-1 input.sk-hidden--visually {border: 0;clip: rect(1px 1px 1px 1px);clip: rect(1px, 1px, 1px, 1px);height: 1px;margin: -1px;overflow: hidden;padding: 0;position: absolute;width: 1px;}#sk-container-id-1 div.sk-estimator {font-family: monospace;background-color: #f0f8ff;border: 1px dotted black;border-radius: 0.25em;box-sizing: border-box;margin-bottom: 0.5em;}#sk-container-id-1 div.sk-estimator:hover {background-color: #d4ebff;}#sk-container-id-1 div.sk-parallel-item::after {content: \"\";width: 100%;border-bottom: 1px solid gray;flex-grow: 1;}#sk-container-id-1 div.sk-label:hover label.sk-toggleable__label {background-color: #d4ebff;}#sk-container-id-1 div.sk-serial::before {content: \"\";position: absolute;border-left: 1px solid gray;box-sizing: border-box;top: 0;bottom: 0;left: 50%;z-index: 0;}#sk-container-id-1 div.sk-serial {display: flex;flex-direction: column;align-items: center;background-color: white;padding-right: 0.2em;padding-left: 0.2em;position: relative;}#sk-container-id-1 div.sk-item {position: relative;z-index: 1;}#sk-container-id-1 div.sk-parallel {display: flex;align-items: stretch;justify-content: center;background-color: white;position: relative;}#sk-container-id-1 div.sk-item::before, #sk-container-id-1 div.sk-parallel-item::before {content: \"\";position: absolute;border-left: 1px solid gray;box-sizing: border-box;top: 0;bottom: 0;left: 50%;z-index: -1;}#sk-container-id-1 div.sk-parallel-item {display: flex;flex-direction: column;z-index: 1;position: relative;background-color: white;}#sk-container-id-1 div.sk-parallel-item:first-child::after {align-self: flex-end;width: 50%;}#sk-container-id-1 div.sk-parallel-item:last-child::after {align-self: flex-start;width: 50%;}#sk-container-id-1 div.sk-parallel-item:only-child::after {width: 0;}#sk-container-id-1 div.sk-dashed-wrapped {border: 1px dashed gray;margin: 0 0.4em 0.5em 0.4em;box-sizing: border-box;padding-bottom: 0.4em;background-color: white;}#sk-container-id-1 div.sk-label label {font-family: monospace;font-weight: bold;display: inline-block;line-height: 1.2em;}#sk-container-id-1 div.sk-label-container {text-align: center;}#sk-container-id-1 div.sk-container {/* jupyter's `normalize.less` sets `[hidden] { display: none; }` but bootstrap.min.css set `[hidden] { display: none !important; }` so we also need the `!important` here to be able to override the default hidden behavior on the sphinx rendered scikit-learn.org. See: https://github.com/scikit-learn/scikit-learn/issues/21755 */display: inline-block !important;position: relative;}#sk-container-id-1 div.sk-text-repr-fallback {display: none;}</style><div id=\"sk-container-id-1\" class=\"sk-top-container\"><div class=\"sk-text-repr-fallback\"><pre>RandomForestClassifier(n_estimators=200, random_state=0)</pre><b>In a Jupyter environment, please rerun this cell to show the HTML representation or trust the notebook. <br />On GitHub, the HTML representation is unable to render, please try loading this page with nbviewer.org.</b></div><div class=\"sk-container\" hidden><div class=\"sk-item\"><div class=\"sk-estimator sk-toggleable\"><input class=\"sk-toggleable__control sk-hidden--visually\" id=\"sk-estimator-id-1\" type=\"checkbox\" checked><label for=\"sk-estimator-id-1\" class=\"sk-toggleable__label sk-toggleable__label-arrow\">RandomForestClassifier</label><div class=\"sk-toggleable__content\"><pre>RandomForestClassifier(n_estimators=200, random_state=0)</pre></div></div></div></div></div>"
      ],
      "text/plain": [
       "RandomForestClassifier(n_estimators=200, random_state=0)"
      ]
     },
     "execution_count": 15,
     "metadata": {},
     "output_type": "execute_result"
    }
   ],
   "source": [
    "rfc = RandomForestClassifier(random_state = 0, n_estimators = 200)\n",
    "rfc.fit(X_train, Y_train)"
   ]
  },
  {
   "cell_type": "code",
   "execution_count": 16,
   "id": "6c037700",
   "metadata": {},
   "outputs": [],
   "source": [
    "pred_rfc = rfc.predict(X_test)"
   ]
  },
  {
   "cell_type": "code",
   "execution_count": 17,
   "id": "3d9b8fb3",
   "metadata": {},
   "outputs": [],
   "source": [
    "#K FOLD FOR IT\n",
    "cv = KFold(n_splits=2, random_state=0, shuffle=True)\n",
    "# evaluate model\n",
    "rfc_auc = cross_val_score(rfc, X_train, Y_train, scoring='roc_auc_ovo', cv=cv, n_jobs=-1)\n",
    "rfc_accuracy = cross_val_score(rfc, X_train, Y_train, scoring='accuracy', cv=cv, n_jobs=-1)"
   ]
  },
  {
   "cell_type": "code",
   "execution_count": 18,
   "id": "da14819d",
   "metadata": {},
   "outputs": [],
   "source": [
    "from sklearn.metrics import accuracy_score, roc_auc_score"
   ]
  },
  {
   "cell_type": "code",
   "execution_count": 19,
   "id": "88ee8974",
   "metadata": {},
   "outputs": [
    {
     "data": {
      "text/html": [
       "<div>\n",
       "<style scoped>\n",
       "    .dataframe tbody tr th:only-of-type {\n",
       "        vertical-align: middle;\n",
       "    }\n",
       "\n",
       "    .dataframe tbody tr th {\n",
       "        vertical-align: top;\n",
       "    }\n",
       "\n",
       "    .dataframe thead th {\n",
       "        text-align: right;\n",
       "    }\n",
       "</style>\n",
       "<table border=\"1\" class=\"dataframe\">\n",
       "  <thead>\n",
       "    <tr style=\"text-align: right;\">\n",
       "      <th></th>\n",
       "      <th>Accuracy</th>\n",
       "      <th>AUC</th>\n",
       "    </tr>\n",
       "  </thead>\n",
       "  <tbody>\n",
       "    <tr>\n",
       "      <th>Prediction</th>\n",
       "      <td>0.149733</td>\n",
       "      <td>-</td>\n",
       "    </tr>\n",
       "    <tr>\n",
       "      <th>K-fold</th>\n",
       "      <td>0.122326</td>\n",
       "      <td>0.600951</td>\n",
       "    </tr>\n",
       "  </tbody>\n",
       "</table>\n",
       "</div>"
      ],
      "text/plain": [
       "            Accuracy       AUC\n",
       "Prediction  0.149733         -\n",
       "K-fold      0.122326  0.600951"
      ]
     },
     "execution_count": 19,
     "metadata": {},
     "output_type": "execute_result"
    }
   ],
   "source": [
    "pd.DataFrame([[accuracy_score(Y_test, pred_rfc), '-'],[np.mean(rfc_accuracy), np.mean(rfc_auc)]], columns = ['Accuracy', 'AUC'], index = ['Prediction', 'K-fold'])"
   ]
  },
  {
   "cell_type": "markdown",
   "id": "2c4b995f",
   "metadata": {},
   "source": [
    "### NAIVE BAYES"
   ]
  },
  {
   "cell_type": "code",
   "execution_count": 20,
   "id": "2b6f7d26",
   "metadata": {},
   "outputs": [],
   "source": [
    "from sklearn.naive_bayes import GaussianNB"
   ]
  },
  {
   "cell_type": "code",
   "execution_count": 21,
   "id": "70cde259",
   "metadata": {},
   "outputs": [
    {
     "data": {
      "text/html": [
       "<style>#sk-container-id-2 {color: black;background-color: white;}#sk-container-id-2 pre{padding: 0;}#sk-container-id-2 div.sk-toggleable {background-color: white;}#sk-container-id-2 label.sk-toggleable__label {cursor: pointer;display: block;width: 100%;margin-bottom: 0;padding: 0.3em;box-sizing: border-box;text-align: center;}#sk-container-id-2 label.sk-toggleable__label-arrow:before {content: \"▸\";float: left;margin-right: 0.25em;color: #696969;}#sk-container-id-2 label.sk-toggleable__label-arrow:hover:before {color: black;}#sk-container-id-2 div.sk-estimator:hover label.sk-toggleable__label-arrow:before {color: black;}#sk-container-id-2 div.sk-toggleable__content {max-height: 0;max-width: 0;overflow: hidden;text-align: left;background-color: #f0f8ff;}#sk-container-id-2 div.sk-toggleable__content pre {margin: 0.2em;color: black;border-radius: 0.25em;background-color: #f0f8ff;}#sk-container-id-2 input.sk-toggleable__control:checked~div.sk-toggleable__content {max-height: 200px;max-width: 100%;overflow: auto;}#sk-container-id-2 input.sk-toggleable__control:checked~label.sk-toggleable__label-arrow:before {content: \"▾\";}#sk-container-id-2 div.sk-estimator input.sk-toggleable__control:checked~label.sk-toggleable__label {background-color: #d4ebff;}#sk-container-id-2 div.sk-label input.sk-toggleable__control:checked~label.sk-toggleable__label {background-color: #d4ebff;}#sk-container-id-2 input.sk-hidden--visually {border: 0;clip: rect(1px 1px 1px 1px);clip: rect(1px, 1px, 1px, 1px);height: 1px;margin: -1px;overflow: hidden;padding: 0;position: absolute;width: 1px;}#sk-container-id-2 div.sk-estimator {font-family: monospace;background-color: #f0f8ff;border: 1px dotted black;border-radius: 0.25em;box-sizing: border-box;margin-bottom: 0.5em;}#sk-container-id-2 div.sk-estimator:hover {background-color: #d4ebff;}#sk-container-id-2 div.sk-parallel-item::after {content: \"\";width: 100%;border-bottom: 1px solid gray;flex-grow: 1;}#sk-container-id-2 div.sk-label:hover label.sk-toggleable__label {background-color: #d4ebff;}#sk-container-id-2 div.sk-serial::before {content: \"\";position: absolute;border-left: 1px solid gray;box-sizing: border-box;top: 0;bottom: 0;left: 50%;z-index: 0;}#sk-container-id-2 div.sk-serial {display: flex;flex-direction: column;align-items: center;background-color: white;padding-right: 0.2em;padding-left: 0.2em;position: relative;}#sk-container-id-2 div.sk-item {position: relative;z-index: 1;}#sk-container-id-2 div.sk-parallel {display: flex;align-items: stretch;justify-content: center;background-color: white;position: relative;}#sk-container-id-2 div.sk-item::before, #sk-container-id-2 div.sk-parallel-item::before {content: \"\";position: absolute;border-left: 1px solid gray;box-sizing: border-box;top: 0;bottom: 0;left: 50%;z-index: -1;}#sk-container-id-2 div.sk-parallel-item {display: flex;flex-direction: column;z-index: 1;position: relative;background-color: white;}#sk-container-id-2 div.sk-parallel-item:first-child::after {align-self: flex-end;width: 50%;}#sk-container-id-2 div.sk-parallel-item:last-child::after {align-self: flex-start;width: 50%;}#sk-container-id-2 div.sk-parallel-item:only-child::after {width: 0;}#sk-container-id-2 div.sk-dashed-wrapped {border: 1px dashed gray;margin: 0 0.4em 0.5em 0.4em;box-sizing: border-box;padding-bottom: 0.4em;background-color: white;}#sk-container-id-2 div.sk-label label {font-family: monospace;font-weight: bold;display: inline-block;line-height: 1.2em;}#sk-container-id-2 div.sk-label-container {text-align: center;}#sk-container-id-2 div.sk-container {/* jupyter's `normalize.less` sets `[hidden] { display: none; }` but bootstrap.min.css set `[hidden] { display: none !important; }` so we also need the `!important` here to be able to override the default hidden behavior on the sphinx rendered scikit-learn.org. See: https://github.com/scikit-learn/scikit-learn/issues/21755 */display: inline-block !important;position: relative;}#sk-container-id-2 div.sk-text-repr-fallback {display: none;}</style><div id=\"sk-container-id-2\" class=\"sk-top-container\"><div class=\"sk-text-repr-fallback\"><pre>GaussianNB()</pre><b>In a Jupyter environment, please rerun this cell to show the HTML representation or trust the notebook. <br />On GitHub, the HTML representation is unable to render, please try loading this page with nbviewer.org.</b></div><div class=\"sk-container\" hidden><div class=\"sk-item\"><div class=\"sk-estimator sk-toggleable\"><input class=\"sk-toggleable__control sk-hidden--visually\" id=\"sk-estimator-id-2\" type=\"checkbox\" checked><label for=\"sk-estimator-id-2\" class=\"sk-toggleable__label sk-toggleable__label-arrow\">GaussianNB</label><div class=\"sk-toggleable__content\"><pre>GaussianNB()</pre></div></div></div></div></div>"
      ],
      "text/plain": [
       "GaussianNB()"
      ]
     },
     "execution_count": 21,
     "metadata": {},
     "output_type": "execute_result"
    }
   ],
   "source": [
    "naive = GaussianNB()\n",
    "naive.fit(X_train, Y_train)"
   ]
  },
  {
   "cell_type": "code",
   "execution_count": 22,
   "id": "ac7e1721",
   "metadata": {},
   "outputs": [],
   "source": [
    "pred_naive = naive.predict(X_test)"
   ]
  },
  {
   "cell_type": "code",
   "execution_count": 23,
   "id": "34a28d15",
   "metadata": {},
   "outputs": [],
   "source": [
    "#KFOLD \n",
    "cv = KFold(n_splits=2, random_state=0, shuffle=True)\n",
    "#evaluate model\n",
    "naive_auc = cross_val_score(naive, X_train, Y_train, scoring='roc_auc_ovo', cv=cv, n_jobs=-1)\n",
    "naive_accuracy = cross_val_score(naive, X_train, Y_train, scoring='accuracy', cv=cv, n_jobs=-1)"
   ]
  },
  {
   "cell_type": "code",
   "execution_count": 24,
   "id": "8cd55a74",
   "metadata": {},
   "outputs": [
    {
     "data": {
      "text/html": [
       "<div>\n",
       "<style scoped>\n",
       "    .dataframe tbody tr th:only-of-type {\n",
       "        vertical-align: middle;\n",
       "    }\n",
       "\n",
       "    .dataframe tbody tr th {\n",
       "        vertical-align: top;\n",
       "    }\n",
       "\n",
       "    .dataframe thead th {\n",
       "        text-align: right;\n",
       "    }\n",
       "</style>\n",
       "<table border=\"1\" class=\"dataframe\">\n",
       "  <thead>\n",
       "    <tr style=\"text-align: right;\">\n",
       "      <th></th>\n",
       "      <th>Accuracy</th>\n",
       "      <th>AUC</th>\n",
       "    </tr>\n",
       "  </thead>\n",
       "  <tbody>\n",
       "    <tr>\n",
       "      <th>Prediction</th>\n",
       "      <td>0.114973</td>\n",
       "      <td>-</td>\n",
       "    </tr>\n",
       "    <tr>\n",
       "      <th>K-fold</th>\n",
       "      <td>0.117647</td>\n",
       "      <td>0.645419</td>\n",
       "    </tr>\n",
       "  </tbody>\n",
       "</table>\n",
       "</div>"
      ],
      "text/plain": [
       "            Accuracy       AUC\n",
       "Prediction  0.114973         -\n",
       "K-fold      0.117647  0.645419"
      ]
     },
     "execution_count": 24,
     "metadata": {},
     "output_type": "execute_result"
    }
   ],
   "source": [
    "#WITH FIRST AND SECOND TRY GRADES\n",
    "pd.DataFrame([[accuracy_score(Y_test, pred_naive), '-'],[np.mean(naive_accuracy), np.mean(naive_auc)]], columns = ['Accuracy', 'AUC'], index = ['Prediction', 'K-fold'])"
   ]
  },
  {
   "cell_type": "markdown",
   "id": "0eb217b3",
   "metadata": {},
   "source": [
    "# METRICS"
   ]
  },
  {
   "cell_type": "code",
   "execution_count": 25,
   "id": "b4dac2f1",
   "metadata": {},
   "outputs": [],
   "source": [
    "from sklearn.metrics import confusion_matrix, classification_report"
   ]
  },
  {
   "cell_type": "code",
   "execution_count": 26,
   "id": "95dab248",
   "metadata": {},
   "outputs": [],
   "source": [
    "model_pred = {'Random Forest Classifier' : pred_rfc, 'Naive Bayes' : pred_naive}"
   ]
  },
  {
   "cell_type": "code",
   "execution_count": 27,
   "id": "c198cc23",
   "metadata": {},
   "outputs": [
    {
     "name": "stdout",
     "output_type": "stream",
     "text": [
      "Random Forest Classifier :\n",
      "[[ 1  0  0 ...  1  1  0]\n",
      " [ 0  0  1 ...  0  0  0]\n",
      " [ 0  0  0 ...  0  0  0]\n",
      " ...\n",
      " [ 3  0  0 ... 22  0  0]\n",
      " [ 0  0  0 ...  1  0  0]\n",
      " [ 0  0  1 ...  3  1  1]]\n",
      "\n",
      "\n",
      "\n",
      "Naive Bayes :\n",
      "[[ 0  3  0 ...  1  0  1]\n",
      " [ 1  0  0 ...  1  0  0]\n",
      " [ 0  0  0 ...  1  0  0]\n",
      " ...\n",
      " [ 1  0  0 ... 18  0  0]\n",
      " [ 1  0  0 ...  1  0  0]\n",
      " [ 0  0  0 ...  1  0  0]]\n",
      "\n",
      "\n",
      "\n"
     ]
    }
   ],
   "source": [
    "for v,k in model_pred.items():\n",
    "    print(f'{v} :\\n{confusion_matrix(Y_test, model_pred[v])}\\n\\n\\n')"
   ]
  },
  {
   "cell_type": "markdown",
   "id": "beee469e",
   "metadata": {},
   "source": [
    "### Classification Report"
   ]
  },
  {
   "cell_type": "code",
   "execution_count": 28,
   "id": "4f380c08",
   "metadata": {},
   "outputs": [
    {
     "name": "stdout",
     "output_type": "stream",
     "text": [
      "Random Forest Classifier :\n",
      "              precision    recall  f1-score   support\n",
      "\n",
      "      AB ENG       0.08      0.09      0.09        11\n",
      "      AB FIL       0.00      0.00      0.00         5\n",
      "    AB JOURN       0.00      0.00      0.00         4\n",
      "   AB POLSCI       0.11      0.09      0.10        22\n",
      "  ABMC-BROAD       0.00      0.00      0.00         8\n",
      "  ABMC-JOURN       0.00      0.00      0.00         3\n",
      "   BAHISTORY       0.33      0.31      0.32        13\n",
      "        BEED       0.20      0.33      0.25        24\n",
      "         BPE       0.12      0.13      0.13        15\n",
      "      BS ABE       0.00      0.00      0.00         1\n",
      "   BS ACCTNG       0.00      0.00      0.00         6\n",
      "     BS AGRI       0.50      0.14      0.22         7\n",
      "      BS BIO       0.00      0.00      0.00        23\n",
      "       BS CD       0.00      0.00      0.00         7\n",
      "       BS CE       0.33      0.22      0.27        18\n",
      "     BS CHEM       0.00      0.00      0.00         3\n",
      "      BS COE       0.00      0.00      0.00         8\n",
      "      BS ECE       0.00      0.00      0.00         6\n",
      "       BS EE       0.00      0.00      0.00         7\n",
      "      BS ENE       0.00      0.00      0.00         7\n",
      "        BS F       0.00      0.00      0.00         0\n",
      "       BS GE       0.00      0.00      0.00         3\n",
      "       BS HE       0.00      0.00      0.00         6\n",
      "     BS MATH       0.17      0.14      0.15         7\n",
      "       BS ME       0.22      0.15      0.18        13\n",
      "       BS ND       0.17      0.10      0.12        10\n",
      "  BS PHYSICS       0.00      0.00      0.00         1\n",
      "       BS SE       0.00      0.00      0.00         5\n",
      "     BS STAT       0.00      0.00      0.00         7\n",
      "        BSCS       0.21      0.14      0.17        21\n",
      "        BSED       0.25      0.18      0.21        11\n",
      "     BSED SS       0.00      0.00      0.00         2\n",
      "  BSED VEDUC       0.00      0.00      0.00         2\n",
      "        BSHM       0.00      0.00      0.00         8\n",
      "        BSIE       0.20      0.17      0.18         6\n",
      "        BSIT       0.09      0.07      0.08        14\n",
      "         BSN       0.25      0.48      0.33        46\n",
      "        BSNE       0.00      0.00      0.00         4\n",
      "        BSSW       0.06      0.10      0.08        10\n",
      "\n",
      "    accuracy                           0.15       374\n",
      "   macro avg       0.08      0.07      0.07       374\n",
      "weighted avg       0.14      0.15      0.13       374\n",
      "\n",
      "\n",
      "\n",
      "\n",
      "Naive Bayes :\n",
      "              precision    recall  f1-score   support\n",
      "\n",
      "      AB ENG       0.00      0.00      0.00        11\n",
      "      AB FIL       0.00      0.00      0.00         5\n",
      "    AB JOURN       0.00      0.00      0.00         4\n",
      "   AB POLSCI       0.00      0.00      0.00        22\n",
      "  ABMC-BROAD       0.00      0.00      0.00         8\n",
      "  ABMC-JOURN       0.00      0.00      0.00         3\n",
      "   BAHISTORY       0.00      0.00      0.00        13\n",
      "        BEED       0.12      0.25      0.17        24\n",
      "         BPE       0.05      0.13      0.08        15\n",
      "      BS ABE       0.00      0.00      0.00         1\n",
      "   BS ACCTNG       0.00      0.00      0.00         6\n",
      "     BS AGRI       0.00      0.00      0.00         7\n",
      "      BS BIO       0.00      0.00      0.00        23\n",
      "       BS CD       0.00      0.00      0.00         7\n",
      "       BS CE       0.23      0.56      0.33        18\n",
      "     BS CHEM       0.00      0.00      0.00         3\n",
      "      BS COE       0.00      0.00      0.00         8\n",
      "      BS ECE       0.00      0.00      0.00         6\n",
      "       BS EE       0.00      0.00      0.00         7\n",
      "      BS ENE       0.00      0.00      0.00         7\n",
      "        BS F       0.00      0.00      0.00         0\n",
      "       BS GE       0.00      0.00      0.00         3\n",
      "       BS HE       0.19      0.50      0.27         6\n",
      "     BS MATH       0.12      0.43      0.19         7\n",
      "       BS ME       0.09      0.08      0.08        13\n",
      "       BS ND       0.00      0.00      0.00        10\n",
      "  BS PHYSICS       0.00      0.00      0.00         1\n",
      "       BS SE       0.00      0.00      0.00         5\n",
      "     BS STAT       0.00      0.00      0.00         7\n",
      "        BSCS       0.00      0.00      0.00        21\n",
      "        BSED       0.00      0.00      0.00        11\n",
      "     BSED SS       0.00      0.00      0.00         2\n",
      "  BSED VEDUC       0.00      0.00      0.00         2\n",
      "        BSHM       0.00      0.00      0.00         8\n",
      "        BSIE       0.00      0.00      0.00         6\n",
      "        BSIT       0.00      0.00      0.00        14\n",
      "         BSN       0.19      0.39      0.26        46\n",
      "        BSNE       0.00      0.00      0.00         4\n",
      "        BSSW       0.00      0.00      0.00        10\n",
      "\n",
      "    accuracy                           0.11       374\n",
      "   macro avg       0.03      0.06      0.04       374\n",
      "weighted avg       0.05      0.11      0.07       374\n",
      "\n",
      "\n",
      "\n",
      "\n"
     ]
    },
    {
     "name": "stderr",
     "output_type": "stream",
     "text": [
      "C:\\Users\\France\\anaconda3\\lib\\site-packages\\sklearn\\metrics\\_classification.py:1334: UndefinedMetricWarning: Precision and F-score are ill-defined and being set to 0.0 in labels with no predicted samples. Use `zero_division` parameter to control this behavior.\n",
      "  _warn_prf(average, modifier, msg_start, len(result))\n",
      "C:\\Users\\France\\anaconda3\\lib\\site-packages\\sklearn\\metrics\\_classification.py:1334: UndefinedMetricWarning: Recall and F-score are ill-defined and being set to 0.0 in labels with no true samples. Use `zero_division` parameter to control this behavior.\n",
      "  _warn_prf(average, modifier, msg_start, len(result))\n",
      "C:\\Users\\France\\anaconda3\\lib\\site-packages\\sklearn\\metrics\\_classification.py:1334: UndefinedMetricWarning: Precision and F-score are ill-defined and being set to 0.0 in labels with no predicted samples. Use `zero_division` parameter to control this behavior.\n",
      "  _warn_prf(average, modifier, msg_start, len(result))\n",
      "C:\\Users\\France\\anaconda3\\lib\\site-packages\\sklearn\\metrics\\_classification.py:1334: UndefinedMetricWarning: Recall and F-score are ill-defined and being set to 0.0 in labels with no true samples. Use `zero_division` parameter to control this behavior.\n",
      "  _warn_prf(average, modifier, msg_start, len(result))\n",
      "C:\\Users\\France\\anaconda3\\lib\\site-packages\\sklearn\\metrics\\_classification.py:1334: UndefinedMetricWarning: Precision and F-score are ill-defined and being set to 0.0 in labels with no predicted samples. Use `zero_division` parameter to control this behavior.\n",
      "  _warn_prf(average, modifier, msg_start, len(result))\n",
      "C:\\Users\\France\\anaconda3\\lib\\site-packages\\sklearn\\metrics\\_classification.py:1334: UndefinedMetricWarning: Recall and F-score are ill-defined and being set to 0.0 in labels with no true samples. Use `zero_division` parameter to control this behavior.\n",
      "  _warn_prf(average, modifier, msg_start, len(result))\n",
      "C:\\Users\\France\\anaconda3\\lib\\site-packages\\sklearn\\metrics\\_classification.py:1334: UndefinedMetricWarning: Precision and F-score are ill-defined and being set to 0.0 in labels with no predicted samples. Use `zero_division` parameter to control this behavior.\n",
      "  _warn_prf(average, modifier, msg_start, len(result))\n",
      "C:\\Users\\France\\anaconda3\\lib\\site-packages\\sklearn\\metrics\\_classification.py:1334: UndefinedMetricWarning: Recall and F-score are ill-defined and being set to 0.0 in labels with no true samples. Use `zero_division` parameter to control this behavior.\n",
      "  _warn_prf(average, modifier, msg_start, len(result))\n",
      "C:\\Users\\France\\anaconda3\\lib\\site-packages\\sklearn\\metrics\\_classification.py:1334: UndefinedMetricWarning: Precision and F-score are ill-defined and being set to 0.0 in labels with no predicted samples. Use `zero_division` parameter to control this behavior.\n",
      "  _warn_prf(average, modifier, msg_start, len(result))\n",
      "C:\\Users\\France\\anaconda3\\lib\\site-packages\\sklearn\\metrics\\_classification.py:1334: UndefinedMetricWarning: Recall and F-score are ill-defined and being set to 0.0 in labels with no true samples. Use `zero_division` parameter to control this behavior.\n",
      "  _warn_prf(average, modifier, msg_start, len(result))\n",
      "C:\\Users\\France\\anaconda3\\lib\\site-packages\\sklearn\\metrics\\_classification.py:1334: UndefinedMetricWarning: Precision and F-score are ill-defined and being set to 0.0 in labels with no predicted samples. Use `zero_division` parameter to control this behavior.\n",
      "  _warn_prf(average, modifier, msg_start, len(result))\n",
      "C:\\Users\\France\\anaconda3\\lib\\site-packages\\sklearn\\metrics\\_classification.py:1334: UndefinedMetricWarning: Recall and F-score are ill-defined and being set to 0.0 in labels with no true samples. Use `zero_division` parameter to control this behavior.\n",
      "  _warn_prf(average, modifier, msg_start, len(result))\n"
     ]
    }
   ],
   "source": [
    "for v,k in model_pred.items():\n",
    "    print(f'{v} :\\n{classification_report(Y_test, model_pred[v])}\\n\\n\\n')"
   ]
  },
  {
   "cell_type": "markdown",
   "id": "3c6dadbc",
   "metadata": {},
   "source": [
    "### TRAINED MODEL"
   ]
  },
  {
   "cell_type": "code",
   "execution_count": 38,
   "id": "d038cd61",
   "metadata": {},
   "outputs": [],
   "source": [
    "import pickle\n",
    "from sklearn.metrics import confusion_matrix, classification_report"
   ]
  },
  {
   "cell_type": "code",
   "execution_count": 39,
   "id": "f33ad3bc",
   "metadata": {},
   "outputs": [],
   "source": [
    "#RANDOM FOREST\n",
    "pickle.dump(rfc, open('TrainedModel_Forest.pkl', 'wb'))"
   ]
  },
  {
   "cell_type": "code",
   "execution_count": 40,
   "id": "c3dc5fec",
   "metadata": {},
   "outputs": [],
   "source": [
    "#NAIVE BAYES\n",
    "pickle.dump(naive, open('TrainedModel_Naive.pkl', 'wb'))"
   ]
  },
  {
   "cell_type": "markdown",
   "id": "137edc48",
   "metadata": {},
   "source": [
    "### BATCH PREDICTION"
   ]
  },
  {
   "cell_type": "code",
   "execution_count": 41,
   "id": "b6d01d2d",
   "metadata": {},
   "outputs": [],
   "source": [
    "test_model_forest = pickle.load(open('TrainedModel_Forest.pkl', 'rb'))"
   ]
  },
  {
   "cell_type": "code",
   "execution_count": 42,
   "id": "949b8ac8",
   "metadata": {},
   "outputs": [],
   "source": [
    "test_model_naive = pickle.load(open('TrainedModel_Naive.pkl', 'rb'))"
   ]
  },
  {
   "cell_type": "code",
   "execution_count": 62,
   "id": "68fda3c9",
   "metadata": {},
   "outputs": [
    {
     "name": "stdout",
     "output_type": "stream",
     "text": [
      "        Pr1    Pr2    Pr3    Pr4    Pr5   Oapr\n",
      "119   70.75  77.12  36.55  79.96  63.10  72.43\n",
      "456   49.95  71.99  72.66  79.96  33.69  64.72\n",
      "1153  96.08  99.70  97.72  84.63  91.68  97.46\n",
      "1715  80.58  35.70  36.55  70.61  53.29  66.95\n",
      "1737  87.60  96.76  85.06  92.22  63.10  91.56 \n",
      "\n",
      " 119          BSIT\n",
      "456     AB POLSCI\n",
      "1153        BS ME\n",
      "1715         BEED\n",
      "1737         BEED\n",
      "Name: Course, dtype: string\n",
      "\n",
      "\n",
      " ['BSIT' 'AB POLSCI' 'BS ME' 'BEED' 'BEED']\n",
      "\n",
      "\n",
      "Confusion Matrix:\n",
      "\n",
      " [[1 0 0 0]\n",
      " [0 2 0 0]\n",
      " [0 0 1 0]\n",
      " [0 0 0 1]]\n",
      "\n",
      "\n",
      "Accuracy Score: 1.0\n"
     ]
    }
   ],
   "source": [
    "# RANDOM FOREST RANGING FROM 60% TO 100% ACCURACY\n",
    "new_Xdata = X.sample(5)\n",
    "new_Ydata = Y[new_Xdata.index.values]\n",
    "pred = test_model_forest.predict(new_Xdata)\n",
    "\n",
    "print(new_Xdata,'\\n\\n', new_Ydata)\n",
    "print('\\n\\n', pred)\n",
    "\n",
    "res_cm = confusion_matrix(new_Ydata, pred)\n",
    "print('\\n\\nConfusion Matrix:\\n\\n', res_cm)\n",
    "res_acc = accuracy_score(new_Ydata, pred)\n",
    "print('\\n\\nAccuracy Score:', res_acc)"
   ]
  },
  {
   "cell_type": "code",
   "execution_count": 65,
   "id": "f542ac1f",
   "metadata": {},
   "outputs": [
    {
     "name": "stdout",
     "output_type": "stream",
     "text": [
      "        Pr1    Pr2    Pr3    Pr4    Pr5   Oapr\n",
      "614   89.71  77.12  85.06  84.63  79.78  89.65\n",
      "1291  47.00  35.70  72.66  79.96  63.10  60.09\n",
      "475   80.58  90.94  94.84  84.63  83.75  90.13\n",
      "1044  68.50  90.94  29.96  70.61  79.78  73.34\n",
      "360   68.50  61.11  76.79  63.45  33.69  68.07 \n",
      "\n",
      " 614     BS ACCTNG\n",
      "1291          BPE\n",
      "475     AB POLSCI\n",
      "1044       BS ECE\n",
      "360        AB FIL\n",
      "Name: Course, dtype: string\n",
      "\n",
      "\n",
      " ['BSIT' 'AB POLSCI' 'BS ME' 'BEED' 'BEED']\n",
      "\n",
      "\n",
      "Confusion Matrix:\n",
      "\n",
      " [[1 0 0 0]\n",
      " [0 2 0 0]\n",
      " [0 0 1 0]\n",
      " [0 0 0 1]]\n",
      "\n",
      "\n",
      "Accuracy Score: 0.0\n"
     ]
    }
   ],
   "source": [
    "# RANDOM FOREST RANGING\n",
    "naive_Xdata = X.sample(5)\n",
    "naive_Ydata = Y[naive_Xdata.index.values]\n",
    "naive_pred = test_model_naive.predict(naive_Xdata)\n",
    "\n",
    "print(naive_Xdata,'\\n\\n', naive_Ydata)\n",
    "print('\\n\\n', pred)\n",
    "\n",
    "naive_res_cm = confusion_matrix(naive_Ydata, naive_pred)\n",
    "print('\\n\\nConfusion Matrix:\\n\\n', res_cm)\n",
    "naive_res_acc = accuracy_score(naive_Ydata, naive_pred)\n",
    "print('\\n\\nAccuracy Score:', naive_res_acc)"
   ]
  },
  {
   "cell_type": "code",
   "execution_count": null,
   "id": "4369b90d",
   "metadata": {},
   "outputs": [],
   "source": []
  }
 ],
 "metadata": {
  "kernelspec": {
   "display_name": "Python 3 (ipykernel)",
   "language": "python",
   "name": "python3"
  },
  "language_info": {
   "codemirror_mode": {
    "name": "ipython",
    "version": 3
   },
   "file_extension": ".py",
   "mimetype": "text/x-python",
   "name": "python",
   "nbconvert_exporter": "python",
   "pygments_lexer": "ipython3",
   "version": "3.9.12"
  }
 },
 "nbformat": 4,
 "nbformat_minor": 5
}
